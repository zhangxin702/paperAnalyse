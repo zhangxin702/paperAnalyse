{
 "cells": [
  {
   "cell_type": "code",
   "execution_count": 1,
   "metadata": {},
   "outputs": [],
   "source": [
    "# 从pdf中读取信息以辅助阅读论文\n",
    "import PyPDF2\n",
    "import ollama\n",
    "from ollama import Client\n",
    "# 注意版本问题！\n",
    "# PyPDF2 == 3.0.1\n",
    "# ollama == 0.3.1\n",
    "\n"
   ]
  },
  {
   "cell_type": "code",
   "execution_count": 2,
   "metadata": {},
   "outputs": [],
   "source": [
    "# 读取pdf\n",
    "# 遍历某个文件夹下的所有pdf文件\n",
    "def read_pdf_text(filename):\n",
    "  with open(filename, 'rb') as file:\n",
    "    # 创建一个PDF阅读器对象\n",
    "    reader = PyPDF2.PdfReader(file)\n",
    "    res = []\n",
    "    # 遍历PDF中的每一页\n",
    "    for page_num in range(len(reader.pages)):\n",
    "      # 获取当前页面的文本内容\n",
    "      text = reader.pages[page_num].extract_text()\n",
    "      res.append(text)\n",
    "    return ''.join(res)"
   ]
  },
  {
   "cell_type": "code",
   "execution_count": 6,
   "metadata": {},
   "outputs": [],
   "source": [
    "import os\n",
    "\n",
    "filepath = \"/home/zhangxinying/vscode/test/2025-02-25_15-43-17-327/pdf/Event-Based Limit Order Book Simulation under a Neural Hawkes Process: Application in Market-Making.pdf\"\n",
    "filepath = os.path.abspath(filepath)\n",
    "\n"
   ]
  },
  {
   "cell_type": "code",
   "execution_count": 7,
   "metadata": {},
   "outputs": [],
   "source": [
    "client = Client(\n",
    "  host='http://192.168.99.106:11434',\n",
    "  headers={'x-some-header': 'some-value'}\n",
    ")"
   ]
  },
  {
   "cell_type": "code",
   "execution_count": null,
   "metadata": {},
   "outputs": [],
   "source": []
  },
  {
   "cell_type": "code",
   "execution_count": 10,
   "metadata": {},
   "outputs": [],
   "source": [
    "def extract_pdf(filename, prompt_content):\n",
    "    pdf = read_pdf_text(filename=filename)\n",
    "    \n",
    "    response = client.chat(model='deepseek-r1:70b',\n",
    "                messages = [\n",
    "                           {'role': 'system', 'content': prompt_content},\n",
    "                           {\"role\":\"user\", \"content\": \"用中文回答\"},\n",
    "                           {'role': 'user', 'content': pdf}\n",
    "                           \n",
    "                       ])\n",
    "\n",
    "    # return response['message']['content']\n",
    "    return response\n",
    "\n",
    "\n",
    "\n",
    "\n"
   ]
  },
  {
   "cell_type": "code",
   "execution_count": 12,
   "metadata": {},
   "outputs": [],
   "source": [
    "respoonse = extract_pdf(filepath, \"请简要概括一下这篇论文的主要内容。\")\n",
    "\n"
   ]
  },
  {
   "cell_type": "code",
   "execution_count": 14,
   "metadata": {},
   "outputs": [
    {
     "name": "stdout",
     "output_type": "stream",
     "text": [
      "model='deepseek-r1:70b' created_at='2025-02-25T07:59:47.449371033Z' done=True done_reason='stop' total_duration=146721860648 load_duration=21392441 prompt_eval_count=2048 prompt_eval_duration=4329000000 eval_count=1508 eval_duration=142338000000 message=Message(role='assistant', content='<think>\\n嗯，我最近在研究高频交易中的市场微观结构，特别是极高频交易者如何利用订单簿数据来进行策略优化。我对limit order book（LOB）模拟很感兴趣，因为它能帮助理解价格形成机制和市场参与者的行为。现在我需要了解一下现有的LOB模拟方法，以及它们各自的优缺点。\\n\\n首先，我应该从基本概念开始。Limit order book记录了某一时刻所有未成交的限价订单，包括买单和卖单，以及它们的价格和数量。模拟这些数据能帮助测试交易策略，看看在不同的市场条件下策略表现如何。但是，LOB的复杂性很高，因为它涉及到大量的事件（如订单提交、取消、成交等），而且这些事件之间往往有关联，不是独立的。\\n\\n我看到有一些文献提到了使用Hawkes过程来模拟LOB中的事件。Hawkes过程是一种点过程，可以描述事件之间的自激励效应，比如一笔交易可能会触发更多的交易。这样的模型在捕捉市场的非平稳和集体行为方面可能很有用。不过，Hawkes过程也有其局限性，尤其是在处理高维数据时可能会遇到计算上的挑战。\\n\\n另外，有些研究使用了深度学习方法，比如神经网络来建模LOB。例如，Neural Hawkes Process将神经网络与Hawkes过程结合起来，通过学习事件之间的关系来生成更真实的订单流。这听起来不错，但我担心这样的模型可能会过于复杂，训练和调参都需要大量计算资源。\\n\\n还有基于agent-based的方法，这种方法模拟不同类型的交易者（如基本面交易者、趋势跟踪者等）及其互动。这种方法可以生成较为真实的市场行为，但设定合理的代理人行为模型可能会很困难，而且计算资源需求也高，尤其是在模拟大规模市场时。\\n\\n我还需要了解一些具体的工具或框架，比如LOBSTER，它是一个用于重建和可视化LOB数据的工具。这样的工具对于获取和处理真实市场数据应该非常有帮助。不过，我不太清楚它是否支持生成人工数据或者进行模拟。\\n\\n另外，有些文献提到了利用深度强化学习（Deep Reinforcement Learning, DRL）来优化市场制作策略。这涉及到训练一个agent在LOB环境中做出最佳的报价决策，以最大化利润或最小化风险。这样的方法很前沿，但可能面临高维状态空间和样本效率低的问题。\\n\\n我还注意到，有些研究将Hawkes过程与其他模型结合，比如跳扩散模型（Jump-Diffusion Models），以同时捕捉连续价格运动和离散的跳跃事件。这种混合模型可能更全面地描述市场行为，但实现起来也更加复杂。\\n\\n在评估这些方法时，我需要考虑几个关键因素：准确性、计算效率、易用性以及可解释性。例如，基于物理学的简化模型虽然计算快，但可能忽略了一些重要的细节；而复杂的机器学习模型则可能捕捉更多特征，但计算成本高，并且难以解释结果。\\n\\n另外，我还应该关注如何验证这些模拟方法的有效性。通常，这涉及到对比生成的模拟数据与真实市场数据在统计特性上的差异，比如订单到达率、价格波动、流动性等指标是否匹配。此外，也可以通过测试交易策略在模拟环境中的表现，来评估模型的实用价值。\\n\\n我还想了解一下目前学界和业界在这方面的最新进展。比如，有没有新的模型或者方法被提出，可以更好地处理LOB的复杂性？有没有开源的工具包或框架，可以帮助快速搭建和测试不同的模拟方法？\\n\\n最后，我需要考虑我的研究目标是什么。如果我主要关注的是策略优化，可能需要一个高效且灵活的模拟环境，以便快速迭代和测试。反之，如果我的目标是对市场行为进行深入分析，可能需要更复杂、更精确的模型。\\n\\n综上所述，我应该系统地了解各类LOB模拟方法，评估它们的优缺点，并根据自己的研究需求选择合适的工具和模型。同时，也要注意模型验证和结果解释，以确保研究结论的可靠性。\\n</think>\\n\\n为了有效模拟Limit Order Book（LOB）并生成高质量的人工数据，可以采用以下步骤：\\n\\n### 1. 理解LOB结构与事件类型\\n首先，明确LOB中的基本组成部分：买单堆和卖单堆，每个堆中包含多个订单，记录了价格和数量。订单事件主要包括提交（Submit）、取消（Cancel）和成交（Execute）。这些事件会影响LOB的动态变化。\\n\\n### 2. 数据收集与预处理\\n获取真实市场数据，使用工具如LOBSTER进行数据清洗、缺失值处理和格式转换，为后续建模提供高质量输入。\\n\\n### 3. 选择合适的模型\\n根据研究目标选择模型：\\n- **Hawkes过程**：适用于捕捉事件之间的自激励效应，能描述订单事件的时间依赖性。\\n- **神经网络（如Neural Hawkes Process）**：结合深度学习，能够更灵活地建模复杂的事件关系。\\n- **基于代理的模型**：模拟不同类型交易者的行为，适合研究市场微观结构和互动效应。\\n\\n### 4. 模型实现与训练\\n使用Python等编程语言，利用TensorFlow、PyTorch等深度学习框架或点过程库（如tick）进行模型实现。对模型进行训练，调整参数以优化生成数据的真实性和准确性。\\n\\n### 5. 模拟LOB动态\\n基于训练好的模型，开始生成人工订单流。模拟环境中不断触发提交、取消和成交事件，同时更新LOB状态，反映出市场的动态变化。\\n\\n### 6. 验证与评估\\n对比生成数据与真实数据在统计特性（如Volatility, Order Arrival Rate）上的差异。测试交易策略在模拟环境中的表现，以验证模型的有效性和可靠性。\\n\\n### 7. 应用与优化\\n将生成的LOB数据用于策略回测或市场分析，根据反馈调整模型参数，持续优化模拟结果。\\n\\n通过以上步骤，可以系统地构建一个高效、准确的LOB模拟环境，满足研究和策略开发需求。', images=None, tool_calls=None)\n"
     ]
    }
   ],
   "source": [
    "print(respoonse)"
   ]
  },
  {
   "cell_type": "code",
   "execution_count": null,
   "metadata": {},
   "outputs": [],
   "source": [
    "with open( \"/home/zhangxinying/vscode/test/arxive/data\" +\"/answer.txt\", 'w') as f:\n",
    "    f.write(respoonse)"
   ]
  },
  {
   "cell_type": "code",
   "execution_count": null,
   "metadata": {},
   "outputs": [],
   "source": []
  },
  {
   "cell_type": "code",
   "execution_count": null,
   "metadata": {},
   "outputs": [],
   "source": []
  }
 ],
 "metadata": {
  "kernelspec": {
   "display_name": "notebook",
   "language": "python",
   "name": "python3"
  },
  "language_info": {
   "codemirror_mode": {
    "name": "ipython",
    "version": 3
   },
   "file_extension": ".py",
   "mimetype": "text/x-python",
   "name": "python",
   "nbconvert_exporter": "python",
   "pygments_lexer": "ipython3",
   "version": "3.8.16"
  }
 },
 "nbformat": 4,
 "nbformat_minor": 2
}
