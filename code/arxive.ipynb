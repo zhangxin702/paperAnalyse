{
 "cells": [
  {
   "cell_type": "code",
   "execution_count": 2,
   "metadata": {},
   "outputs": [],
   "source": [
    "from arxiv import Client, Search, SortCriterion\n",
    "from urllib.error import HTTPError\n",
    "import requests"
   ]
  },
  {
   "cell_type": "code",
   "execution_count": 60,
   "metadata": {},
   "outputs": [
    {
     "name": "stdout",
     "output_type": "stream",
     "text": [
      "/home/zhangxinying/vscode/test/arxive\n"
     ]
    }
   ],
   "source": [
    "import os \n",
    "# 返回上一层目录\n",
    "os.chdir(\"..\")\n",
    "print(os.getcwd())\n"
   ]
  },
  {
   "cell_type": "code",
   "execution_count": 69,
   "metadata": {},
   "outputs": [],
   "source": [
    "# 1. 创建搜索条件\n",
    "search = Search(\n",
    "    query=\"astronomy RFI\",  # 计算机视觉领域的深度学习论文\n",
    "    max_results=10,                       # 限制获取100篇\n",
    "    sort_by=SortCriterion.SubmittedDate    # 按提交日期排序\n",
    ")"
   ]
  },
  {
   "cell_type": "code",
   "execution_count": 70,
   "metadata": {},
   "outputs": [],
   "source": [
    "# 2. 初始化客户端（使用默认参数）\n",
    "client = Client(\n",
    "    page_size=10,          # 每次请求获取50条\n",
    "    delay_seconds=3.5      # 比官方要求的3秒稍长更安全\n",
    ")\n"
   ]
  },
  {
   "cell_type": "code",
   "execution_count": 71,
   "metadata": {},
   "outputs": [],
   "source": [
    "def safe_download(result):\n",
    "    # 强制校验PDF链接\n",
    "    if not result.pdf_url:\n",
    "        raise ValueError(\"无效的PDF链接\")\n",
    "    \n",
    "    # 下载PDF\n",
    "    filename = result.title + \".pdf\"\n",
    "    pdf_path = result.download_pdf(\"./papers\", filename)\n",
    "    \n",
    "    # 构造源码链接\n",
    "    source_url = result.pdf_url.replace(\"/pdf/\", \"/src/\")\n",
    "    try:\n",
    "        # 尝试HEAD请求验证源码存在性\n",
    "        resp = requests.head(source_url)\n",
    "        \n",
    "        if resp.status_code == 200:\n",
    "            return result.download_source(\"./sources\"), pdf_path\n",
    "    except HTTPError as e:\n",
    "        print(f\"源码不存在: {e}\")\n",
    "    return None, pdf_path"
   ]
  },
  {
   "cell_type": "code",
   "execution_count": 72,
   "metadata": {},
   "outputs": [
    {
     "name": "stdout",
     "output_type": "stream",
     "text": [
      "下载PDF文件: ('./sources/2502.14729v1.Leveraging_Error_Resilience_of_Iterative_Algorithms_for_Energy_Efficiency__from_Concept_to_Implementation.tar.gz', './papers/Leveraging Error Resilience of Iterative Algorithms for Energy Efficiency: from Concept to Implementation.pdf')\n",
      "下载PDF文件: ('./sources/2502.14665v1.The_long_term_solar_variability__as_reconstructed_from_historical_sources__Several_case_studies_in_the_17th____18th_centuries.tar.gz', './papers/The long-term solar variability, as reconstructed from historical sources: Several case studies in the 17th -- 18th centuries.pdf')\n",
      "下载PDF文件: ('./sources/2502.14461v1.Growth_of_Ex_situ_Diffuse_Intragroup_Light_in_Simulated_Galaxy_Groups.tar.gz', './papers/Growth of Ex-situ Diffuse Intragroup Light in Simulated Galaxy Groups.pdf')\n",
      "下载PDF文件: ('./sources/2502.14406v1.Uniturbulence_and_Alfven_wave_solar_model.tar.gz', './papers/Uniturbulence and Alfven wave solar model.pdf')\n",
      "下载PDF文件: ('./sources/2502.14283v1.Understanding_observational_characteristics_of_solar_flare_current_sheets.tar.gz', './papers/Understanding observational characteristics of solar flare current sheets.pdf')\n",
      "下载PDF文件: ('./sources/2502.14217v1.Ask_Me_Anything__Exploring_children_s_attitudes_toward_an_age_tailored_AI_powered_chatbot.tar.gz', \"./papers/Ask Me Anything: Exploring children's attitudes toward an age-tailored AI-powered chatbot.pdf\")\n",
      "下载PDF文件: ('./sources/2502.14124v1.The_Effect_of_Vera_C__Rubin_Observatory_Cadence_Selections_on_Kilonova_Detectability.tar.gz', './papers/The Effect of Vera C. Rubin Observatory Cadence Selections on Kilonova Detectability.pdf')\n",
      "下载PDF文件: ('./sources/2502.13866v1.Hierarchical_accretion_flow_from_the_G351_infrared_dark_filament_to_its_central_cores.tar.gz', './papers/Hierarchical accretion flow from the G351 infrared dark filament to its central cores.pdf')\n",
      "下载PDF文件: ('./sources/2502.13858v1.Quantifying_the_Detectability_of_Milky_Way_Satellites_with_Image_Simulations__a_Case_Study_with_KiDS.tar.gz', './papers/Quantifying the Detectability of Milky Way Satellites with Image Simulations: a Case Study with KiDS.pdf')\n",
      "下载PDF文件: ('./sources/2502.13781v1.2020_Physics_Critique__Can_a_muon_collider_be_operational_within_the_next_30_years_.tar.gz', './papers/2020 Physics Critique: Can a muon collider be operational within the next 30 years?.pdf')\n"
     ]
    }
   ],
   "source": [
    "try:\n",
    "    for result in client.results(search):\n",
    "        \n",
    "        pdfpath = safe_download(result)\n",
    "        print(f\"下载PDF文件: {pdfpath}\")\n",
    "\n",
    "\n",
    "except Exception as e:\n",
    "    print(f\"搜索失败: {str(e)}\")\n"
   ]
  },
  {
   "cell_type": "code",
   "execution_count": null,
   "metadata": {},
   "outputs": [],
   "source": []
  },
  {
   "cell_type": "code",
   "execution_count": null,
   "metadata": {},
   "outputs": [],
   "source": []
  }
 ],
 "metadata": {
  "kernelspec": {
   "display_name": "notebook",
   "language": "python",
   "name": "python3"
  },
  "language_info": {
   "codemirror_mode": {
    "name": "ipython",
    "version": 3
   },
   "file_extension": ".py",
   "mimetype": "text/x-python",
   "name": "python",
   "nbconvert_exporter": "python",
   "pygments_lexer": "ipython3",
   "version": "3.8.16"
  }
 },
 "nbformat": 4,
 "nbformat_minor": 2
}
